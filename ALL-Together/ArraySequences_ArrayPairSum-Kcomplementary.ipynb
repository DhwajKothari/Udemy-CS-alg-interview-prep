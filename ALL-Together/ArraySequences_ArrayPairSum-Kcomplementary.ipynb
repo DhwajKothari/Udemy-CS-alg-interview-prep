{
 "cells": [
  {
   "cell_type": "markdown",
   "metadata": {},
   "source": [
    "# Array Pair Sum\n",
    "\n",
    "## Problem\n",
    "\n",
    "Given an integer array, output all the ** *unique* ** pairs that sum up to a specific value **k**.\n",
    "\n",
    "So the input:\n",
    "    \n",
    "    pair_sum([1,3,2,2],4)\n",
    "\n",
    "would return **2** pairs:\n",
    "\n",
    "     (1,3)\n",
    "     (2,2)\n",
    "\n",
    "**NOTE: FOR TESTING PURPOSES CHANGE YOUR FUNCTION SO IT OUTPUTS THE NUMBER OF PAIRS**\n",
    "\n",
    "## Solution\n",
    "\n",
    "Fill out your solution below:"
   ]
  },
  {
   "cell_type": "markdown",
   "metadata": {},
   "source": [
    "## note\n",
    "First off, this problem is more properly termed as \"K complimentary\".\n",
    "I did this problem for a Codility exam previously, so I will put that here.\n",
    "That solution is the function codility_k_complimentary_fixed \n",
    "located https://github.com/kylemede/DS-ML-sandbox/blob/master/codilityTypePractice.py\n",
    "Although the version I wrote for the Codility exam allowed A[i]+A[i]=K, and non-unique pairs,\n",
    "whereas this problem doesn't and code below reflects that.\n",
    "\n",
    "\n",
    "## Try 1."
   ]
  },
  {
   "cell_type": "code",
   "execution_count": 31,
   "metadata": {
    "collapsed": false
   },
   "outputs": [],
   "source": [
    "def pair_sum(A,K): \n",
    "    count = 0\n",
    "    pairs = []\n",
    "    \n",
    "    # Documentation says this won't happen, but better to be safe...\n",
    "    if (type(A)==list) or (type(K)==int):\n",
    "        #First sort the array to change from O(N**2) to O(N*logN)\n",
    "        A.sort()\n",
    "        \n",
    "        #Set up initial values of important counters and result lists.\n",
    "        i = 0\n",
    "        j = len(A)-1\n",
    "        keep_going = True\n",
    "        \n",
    "        if len(A)>0:\n",
    "            # Move from out to middle, adding up number of complimentary pairs\n",
    "            while(keep_going):\n",
    "                if (A[i]+A[j]==K):\n",
    "                    if i != j:                        \n",
    "                        # Only add to list if pair hasn't been found yet\n",
    "                        if [min([A[i],A[j]]),max([A[i],A[j]])] not in pairs:\n",
    "                            pairs.append([min([A[i],A[j]]),max([A[i],A[j]])])\n",
    "                            count+=1\n",
    "                if i<j:\n",
    "                    i+=1\n",
    "                elif i==j:\n",
    "                    if j==0:\n",
    "                        keep_going = False\n",
    "                    i = 0\n",
    "                    j-=1\n",
    "                    \n",
    "    #print pairs\n",
    "    #print count\n",
    "    return count"
   ]
  },
  {
   "cell_type": "code",
   "execution_count": 32,
   "metadata": {
    "collapsed": false
   },
   "outputs": [
    {
     "data": {
      "text/plain": [
       "2"
      ]
     },
     "execution_count": 32,
     "metadata": {},
     "output_type": "execute_result"
    }
   ],
   "source": [
    "pair_sum([1,3,2,2],4)"
   ]
  },
  {
   "cell_type": "markdown",
   "metadata": {},
   "source": [
    "# Test Your Solution"
   ]
  },
  {
   "cell_type": "code",
   "execution_count": 33,
   "metadata": {
    "collapsed": false
   },
   "outputs": [
    {
     "name": "stdout",
     "output_type": "stream",
     "text": [
      "ALL TEST CASES PASSED\n"
     ]
    }
   ],
   "source": [
    "\"\"\"\n",
    "RUN THIS CELL TO TEST YOUR SOLUTION\n",
    "\"\"\"\n",
    "from nose.tools import assert_equal\n",
    "\n",
    "class TestPair(object):\n",
    "    \n",
    "    def test(self,sol):\n",
    "        assert_equal(sol([1,9,2,8,3,7,4,6,5,5,13,14,11,13,-1],10),6)\n",
    "        assert_equal(sol([1,2,3,1],3),1)\n",
    "        assert_equal(sol([1,3,2,2],4),2)\n",
    "        print 'ALL TEST CASES PASSED'\n",
    "        \n",
    "#Run tests\n",
    "t = TestPair()\n",
    "t.test(pair_sum)\n",
    "    "
   ]
  },
  {
   "cell_type": "markdown",
   "metadata": {},
   "source": [
    "## Try 2.  Course solution using sets"
   ]
  },
  {
   "cell_type": "code",
   "execution_count": 1,
   "metadata": {
    "collapsed": true
   },
   "outputs": [],
   "source": [
    "def pair_sum2(arr,k):\n",
    "    \"\"\"\n",
    "    A version that uses sets, rather than lists\n",
    "    \"\"\"\n",
    "    if len(arr)<2:\n",
    "        return\n",
    "    \n",
    "    # Sets for tracking\n",
    "    seen = set()\n",
    "    output = set()\n",
    "    \n",
    "    # For every number in array\n",
    "    for num in arr:\n",
    "        \n",
    "        # Set target difference\n",
    "        target = k-num\n",
    "        \n",
    "        # Add it to set if target hasn't been seen\n",
    "        if target not in seen:\n",
    "            seen.add(num)\n",
    "        \n",
    "        else:\n",
    "            # Add a tuple with the corresponding pair\n",
    "            output.add( (min(num,target),  max(num,target)) )\n",
    "    \n",
    "    #print '\\n'.join(map(str,list(output)))\n",
    "    return len(output)\n",
    "    "
   ]
  },
  {
   "cell_type": "code",
   "execution_count": 36,
   "metadata": {
    "collapsed": false
   },
   "outputs": [
    {
     "name": "stdout",
     "output_type": "stream",
     "text": [
      "ALL TEST CASES PASSED\n"
     ]
    }
   ],
   "source": [
    "t.test(pair_sum2)"
   ]
  },
  {
   "cell_type": "code",
   "execution_count": null,
   "metadata": {
    "collapsed": true
   },
   "outputs": [],
   "source": []
  }
 ],
 "metadata": {
  "kernelspec": {
   "display_name": "Python 2",
   "language": "python",
   "name": "python2"
  },
  "language_info": {
   "codemirror_mode": {
    "name": "ipython",
    "version": 2
   },
   "file_extension": ".py",
   "mimetype": "text/x-python",
   "name": "python",
   "nbconvert_exporter": "python",
   "pygments_lexer": "ipython2",
   "version": "2.7.11"
  }
 },
 "nbformat": 4,
 "nbformat_minor": 0
}
