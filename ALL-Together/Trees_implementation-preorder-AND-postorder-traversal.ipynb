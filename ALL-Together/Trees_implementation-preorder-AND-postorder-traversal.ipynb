{
 "cells": [
  {
   "cell_type": "markdown",
   "metadata": {},
   "source": [
    "# Represent a tree with nodes and references"
   ]
  },
  {
   "cell_type": "code",
   "execution_count": 4,
   "metadata": {
    "collapsed": true
   },
   "outputs": [],
   "source": [
    "class BinaryTree(object):\n",
    "    def __init__(self,rootObj):\n",
    "        self.key = rootObj\n",
    "        self.leftChild = None\n",
    "        self.rightChild = None\n",
    "\n",
    "    def insertLeft(self,newNode):\n",
    "        if self.leftChild == None:\n",
    "            self.leftChild = BinaryTree(newNode)\n",
    "        else:\n",
    "            t = BinaryTree(newNode)\n",
    "            t.leftChild = self.leftChild\n",
    "            self.leftChild = t\n",
    "\n",
    "    def insertRight(self,newNode):\n",
    "        if self.rightChild == None:\n",
    "            self.rightChild = BinaryTree(newNode)\n",
    "        else:\n",
    "            t = BinaryTree(newNode)\n",
    "            t.rightChild = self.rightChild\n",
    "            self.rightChild = t\n",
    "\n",
    "\n",
    "    def getRightChild(self):\n",
    "        return self.rightChild\n",
    "\n",
    "    def getLeftChild(self):\n",
    "        return self.leftChild\n",
    "\n",
    "    def setRootVal(self,obj):\n",
    "        self.key = obj\n",
    "\n",
    "    def getRootVal(self):\n",
    "        return self.key"
   ]
  },
  {
   "cell_type": "markdown",
   "metadata": {},
   "source": [
    "## Make a 'book' as a tree"
   ]
  },
  {
   "cell_type": "code",
   "execution_count": 10,
   "metadata": {
    "collapsed": false
   },
   "outputs": [],
   "source": [
    "book = BinaryTree('book')\n",
    "# load up chapter 1 on left\n",
    "book.insertLeft('Chapter 1')\n",
    "book.getLeftChild().insertLeft(\"Section 1.1\")\n",
    "s12 = BinaryTree('Section 1.2')\n",
    "s12.insertLeft(\"Section 1.2.1\")\n",
    "s12.insertRight(\"Section 1.2.2\")\n",
    "book.getLeftChild().rightChild = s12\n",
    "# load up chapter 2 on right\n",
    "book.insertRight(\"Chapter 2\")\n",
    "book.getRightChild().insertLeft(\"Section 2.1\")\n",
    "s22 = BinaryTree('Section 2.2')\n",
    "s22.insertLeft(\"Section 2.2.1\")\n",
    "s22.insertRight(\"Section 2.2.2\")\n",
    "book.getRightChild().rightChild = s22"
   ]
  },
  {
   "cell_type": "markdown",
   "metadata": {},
   "source": [
    "## Recursively traverse the tree in 'pre' order\n",
    "ie.  Starting with the root of a tree, get its leaves in order from left to right.  If it was a book, this is like reading the pages of each chapter in order from the first page to last page.\n",
    "\n",
    "Best to implement tree traversals as an external function, rather than a member function of the BinaryTree class.  This is because the tasks you want to perform typically get complex enough that the code does not really belong in that class and should be externalized."
   ]
  },
  {
   "cell_type": "code",
   "execution_count": 16,
   "metadata": {
    "collapsed": true
   },
   "outputs": [],
   "source": [
    "def preorder(tree):\n",
    "    if tree:\n",
    "        print tree.getRootVal()\n",
    "        preorder(tree.getLeftChild())\n",
    "        preorder(tree.getRightChild())"
   ]
  },
  {
   "cell_type": "code",
   "execution_count": 17,
   "metadata": {
    "collapsed": false
   },
   "outputs": [
    {
     "name": "stdout",
     "output_type": "stream",
     "text": [
      "book\n",
      "Chapter 1\n",
      "Section 1.1\n",
      "Section 1.2\n",
      "Section 1.2.1\n",
      "Section 1.2.2\n",
      "Chapter 2\n",
      "Section 2.1\n",
      "Section 2.2\n",
      "Section 2.2.1\n",
      "Section 2.2.2\n"
     ]
    }
   ],
   "source": [
    "preorder(book)"
   ]
  },
  {
   "cell_type": "markdown",
   "metadata": {},
   "source": [
    "## Recursively traverse the tree in 'post' order"
   ]
  },
  {
   "cell_type": "code",
   "execution_count": 18,
   "metadata": {
    "collapsed": true
   },
   "outputs": [],
   "source": [
    "def postorder(tree):\n",
    "    if tree != None:\n",
    "        postorder(tree.getLeftChild())\n",
    "        postorder(tree.getRightChild())\n",
    "        print tree.getRootVal()"
   ]
  },
  {
   "cell_type": "code",
   "execution_count": 15,
   "metadata": {
    "collapsed": false
   },
   "outputs": [
    {
     "name": "stdout",
     "output_type": "stream",
     "text": [
      "Section 1.1\n",
      "Section 1.2.1\n",
      "Section 1.2.2\n",
      "Section 1.2\n",
      "Chapter 1\n",
      "Section 2.1\n",
      "Section 2.2.1\n",
      "Section 2.2.2\n",
      "Section 2.2\n",
      "Chapter 2\n",
      "book\n"
     ]
    }
   ],
   "source": [
    "postorder(book)"
   ]
  },
  {
   "cell_type": "markdown",
   "metadata": {},
   "source": [
    "## Recursively traverse the tree inorder"
   ]
  },
  {
   "cell_type": "code",
   "execution_count": 19,
   "metadata": {
    "collapsed": true
   },
   "outputs": [],
   "source": [
    "def inorder(tree):\n",
    "    if tree != None:\n",
    "        inorder(tree.getLeftChild())\n",
    "        print tree.getRootVal()\n",
    "        inorder(tree.getRightChild())"
   ]
  },
  {
   "cell_type": "code",
   "execution_count": 20,
   "metadata": {
    "collapsed": false
   },
   "outputs": [
    {
     "name": "stdout",
     "output_type": "stream",
     "text": [
      "Section 1.1\n",
      "Chapter 1\n",
      "Section 1.2.1\n",
      "Section 1.2\n",
      "Section 1.2.2\n",
      "book\n",
      "Section 2.1\n",
      "Chapter 2\n",
      "Section 2.2.1\n",
      "Section 2.2\n",
      "Section 2.2.2\n"
     ]
    }
   ],
   "source": [
    "inorder(book)"
   ]
  },
  {
   "cell_type": "code",
   "execution_count": null,
   "metadata": {
    "collapsed": true
   },
   "outputs": [],
   "source": []
  }
 ],
 "metadata": {
  "kernelspec": {
   "display_name": "Python 2",
   "language": "python",
   "name": "python2"
  },
  "language_info": {
   "codemirror_mode": {
    "name": "ipython",
    "version": 2
   },
   "file_extension": ".py",
   "mimetype": "text/x-python",
   "name": "python",
   "nbconvert_exporter": "python",
   "pygments_lexer": "ipython2",
   "version": "2.7.11"
  }
 },
 "nbformat": 4,
 "nbformat_minor": 1
}
