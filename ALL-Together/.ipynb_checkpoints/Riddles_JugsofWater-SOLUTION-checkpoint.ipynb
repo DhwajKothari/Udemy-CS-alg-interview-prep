{
 "cells": [
  {
   "cell_type": "markdown",
   "metadata": {},
   "source": [
    "# Jugs of Water - SOLUTION\n",
    "## Problem Statement\n",
    "\n",
    "You have a five gallons jug and a three gallons jug, and an unlimited supply of water (but no measuring cups) How would you come up with exactly four gallons of water?\n",
    "\n",
    "## Solution\n",
    "\n",
    "This problem has a cameo in the movie Die Hard 3. The solution is below:"
   ]
  },
  {
   "cell_type": "code",
   "execution_count": 3,
   "metadata": {
    "collapsed": false
   },
   "outputs": [
    {
     "data": {
      "text/html": [
       "<img src=\"http://mindyourdecisions.com/blog/wp-content/uploads/2013/02/water-jug-riddle-1.png\"/>"
      ],
      "text/plain": [
       "<IPython.core.display.Image object>"
      ]
     },
     "execution_count": 3,
     "metadata": {},
     "output_type": "execute_result"
    }
   ],
   "source": [
    "from IPython.display import Image\n",
    "Image(url='http://mindyourdecisions.com/blog/wp-content/uploads/2013/02/water-jug-riddle-1.png')"
   ]
  },
  {
   "cell_type": "markdown",
   "metadata": {},
   "source": [
    "Hopefully your interviews are not as stressful as this:"
   ]
  },
  {
   "cell_type": "code",
   "execution_count": 3,
   "metadata": {
    "collapsed": false
   },
   "outputs": [
    {
     "data": {
      "text/plain": [
       "'  https://www.youtube.com/watch?v=BVtQNK_ZUJg  '"
      ]
     },
     "execution_count": 3,
     "metadata": {},
     "output_type": "execute_result"
    }
   ],
   "source": [
    "\"  https://www.youtube.com/watch?v=BVtQNK_ZUJg  \""
   ]
  },
  {
   "cell_type": "markdown",
   "metadata": {},
   "source": [
    "# If buckets, not jugs.  Same number of steps...\n",
    "\n",
    "fill 5G bucket: 5G full, 3G empty.\n",
    "\n",
    "Push 3G bucket till tops are level: 5G has 2, 3G empty.\n",
    "\n",
    "Pour 5G into 3G: 5G has 0, 3G has 2.\n",
    "\n",
    "Fill 5G: 5G full, 3G has 2.\n",
    "\n",
    "Push 3G bucket till tops are level: 5G has 2, 3G has 2.\n",
    "\n",
    "Pour 3G into 5G: 5G has 4, 3G has 0.\n"
   ]
  },
  {
   "cell_type": "code",
   "execution_count": null,
   "metadata": {
    "collapsed": true
   },
   "outputs": [],
   "source": []
  }
 ],
 "metadata": {
  "kernelspec": {
   "display_name": "Python 2",
   "language": "python",
   "name": "python2"
  },
  "language_info": {
   "codemirror_mode": {
    "name": "ipython",
    "version": 2
   },
   "file_extension": ".py",
   "mimetype": "text/x-python",
   "name": "python",
   "nbconvert_exporter": "python",
   "pygments_lexer": "ipython2",
   "version": "2.7.11"
  }
 },
 "nbformat": 4,
 "nbformat_minor": 0
}
