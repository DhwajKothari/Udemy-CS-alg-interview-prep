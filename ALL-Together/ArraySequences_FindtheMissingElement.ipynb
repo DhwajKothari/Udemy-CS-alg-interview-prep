{
 "cells": [
  {
   "cell_type": "markdown",
   "metadata": {},
   "source": [
    "# Find the Missing Element\n",
    "\n",
    "## Problem\n",
    "\n",
    "Consider an array of non-negative integers. A second array is formed by shuffling the elements of the first array and deleting a random element. Given these two arrays, find which element is missing in the second array. \n",
    "\n",
    "Here is an example input, the first array is shuffled and the number 5 is removed to construct the second array.\n",
    "\n",
    "Input:\n",
    "    \n",
    "    finder([1,2,3,4,5,6,7],[3,7,2,1,4,6])\n",
    "\n",
    "Output:\n",
    "\n",
    "    5 is the missing number\n",
    "\n",
    "## Solution\n",
    "\n",
    "Fill out your solution below:"
   ]
  },
  {
   "cell_type": "markdown",
   "metadata": {},
   "source": [
    "## Try 1.  Sorting takes O(log(N)), and single loop takes O(N).  Thus, total is O(Nlog(N))."
   ]
  },
  {
   "cell_type": "code",
   "execution_count": 11,
   "metadata": {
    "collapsed": true
   },
   "outputs": [],
   "source": [
    "def finder(arr1,arr2):\n",
    "    \n",
    "    # Make sure there are elements to check\n",
    "    if len(arr2) < len(arr1): \n",
    "        \n",
    "        # if arr2 is empty, then 0th of arr1 is the answer\n",
    "        if len(arr2) == 0:\n",
    "            return arr1[0]\n",
    "        \n",
    "        # otherwise lets sort and incrementally go through each value till we find a missmatch\n",
    "        # Sorting costs O(log(N))\n",
    "        arr1.sort()\n",
    "        arr2.sort()\n",
    "        for i in xrange(len(arr1)): # loop costs O(N)\n",
    "            if arr1[i] != arr2[i]:\n",
    "                return arr1[i]\n",
    "        "
   ]
  },
  {
   "cell_type": "code",
   "execution_count": 12,
   "metadata": {
    "collapsed": false
   },
   "outputs": [
    {
     "data": {
      "text/plain": [
       "5"
      ]
     },
     "execution_count": 12,
     "metadata": {},
     "output_type": "execute_result"
    }
   ],
   "source": [
    "arr1 = [1,2,3,4,5,6,7]\n",
    "arr2 = [3,7,2,1,4,6]\n",
    "finder(arr1,arr2)"
   ]
  },
  {
   "cell_type": "code",
   "execution_count": 13,
   "metadata": {
    "collapsed": false
   },
   "outputs": [
    {
     "data": {
      "text/plain": [
       "5"
      ]
     },
     "execution_count": 13,
     "metadata": {},
     "output_type": "execute_result"
    }
   ],
   "source": [
    "arr1 = [5,5,7,7]\n",
    "arr2 = [5,7,7]\n",
    "\n",
    "finder(arr1,arr2)"
   ]
  },
  {
   "cell_type": "markdown",
   "metadata": {
    "collapsed": false
   },
   "source": [
    "_____"
   ]
  },
  {
   "cell_type": "markdown",
   "metadata": {},
   "source": [
    "# Test Your Solution"
   ]
  },
  {
   "cell_type": "code",
   "execution_count": 14,
   "metadata": {
    "collapsed": false
   },
   "outputs": [
    {
     "name": "stdout",
     "output_type": "stream",
     "text": [
      "ALL TEST CASES PASSED\n"
     ]
    }
   ],
   "source": [
    "\"\"\"\n",
    "RUN THIS CELL TO TEST YOUR SOLUTION\n",
    "\"\"\"\n",
    "from nose.tools import assert_equal\n",
    "\n",
    "class TestFinder(object):\n",
    "    \n",
    "    def test(self,sol):\n",
    "        assert_equal(sol([5,5,7,7],[5,7,7]),5)\n",
    "        assert_equal(sol([1,2,3,4,5,6,7],[3,7,2,1,4,6]),5)\n",
    "        assert_equal(sol([9,8,7,6,5,4,3,2,1],[9,8,7,5,4,3,2,1]),6)\n",
    "        print 'ALL TEST CASES PASSED'\n",
    "\n",
    "# Run test\n",
    "t = TestFinder()\n",
    "t.test(finder)"
   ]
  },
  {
   "cell_type": "markdown",
   "metadata": {},
   "source": [
    "## Good Job!"
   ]
  },
  {
   "cell_type": "markdown",
   "metadata": {},
   "source": [
    "# Other ways to do it\n",
    "\n",
    "First, you could simply take the sum of the two arrays, then the difference between them would be the missing element.  BUT, if the arrays are really long, or values really big, it could lead to an overflow error.  If the values are very small, it could lead to a precission issue.  Thus, it is not a very robust approach."
   ]
  },
  {
   "cell_type": "markdown",
   "metadata": {},
   "source": [
    "## Try 2.  Single loop, so O(N)."
   ]
  },
  {
   "cell_type": "code",
   "execution_count": 20,
   "metadata": {
    "collapsed": true
   },
   "outputs": [],
   "source": [
    "def finder2(arr1, arr2): \n",
    "    \n",
    "    # Make an empty dict\n",
    "    d={ }\n",
    "    \n",
    "    # Add a count for every instance in Array 1\n",
    "    for num in arr2:\n",
    "        if num in d:\n",
    "            d[num]+=1 \n",
    "        else:\n",
    "            d[num] = 1\n",
    "    \n",
    "    # Check if num not in dictionary\n",
    "    for num in arr1: \n",
    "        if num in d:\n",
    "            if d[num]==0: \n",
    "                return num \n",
    "            # Otherwise, subtract a count\n",
    "            else: \n",
    "                d[num]-=1 \n",
    "        else:\n",
    "            return num        "
   ]
  },
  {
   "cell_type": "code",
   "execution_count": 22,
   "metadata": {
    "collapsed": false
   },
   "outputs": [
    {
     "name": "stdout",
     "output_type": "stream",
     "text": [
      "ALL TEST CASES PASSED\n"
     ]
    }
   ],
   "source": [
    "t.test(finder2)"
   ]
  },
  {
   "cell_type": "markdown",
   "metadata": {},
   "source": [
    "## Try 2, but with collections.defaultdict.  Also, O(N)."
   ]
  },
  {
   "cell_type": "code",
   "execution_count": 21,
   "metadata": {
    "collapsed": true
   },
   "outputs": [],
   "source": [
    "import collections\n",
    "\n",
    "def finder2_2(arr1, arr2): \n",
    "    \"\"\" Same as above, but using the collections defaultdict tool to clean things up a bit.\n",
    "        Just removes the need for 'if num in d:' conditionals.\n",
    "    \"\"\"\n",
    "    # Using default dict to avoid key errors\n",
    "    d=collections.defaultdict(int) \n",
    "    \n",
    "    # Add a count for every instance in Array 1\n",
    "    for num in arr2:\n",
    "        d[num]+=1 \n",
    "    \n",
    "    # Check if num not in dictionary\n",
    "    for num in arr1: \n",
    "        if d[num]==0: \n",
    "            return num \n",
    "        \n",
    "        # Otherwise, subtract a count\n",
    "        else: d[num]-=1 "
   ]
  },
  {
   "cell_type": "code",
   "execution_count": 23,
   "metadata": {
    "collapsed": false
   },
   "outputs": [
    {
     "name": "stdout",
     "output_type": "stream",
     "text": [
      "ALL TEST CASES PASSED\n"
     ]
    }
   ],
   "source": [
    "t.test(finder2_2)"
   ]
  },
  {
   "cell_type": "markdown",
   "metadata": {},
   "source": [
    "## Try 3, using XOR.  'elegent' option.  Single loop, so O(N)."
   ]
  },
  {
   "cell_type": "code",
   "execution_count": 34,
   "metadata": {
    "collapsed": true
   },
   "outputs": [],
   "source": [
    "def finder3(arr1, arr2): \n",
    "    result=0 \n",
    "    #print 'inputs: '+repr(arr1)+', '+repr(arr2)\n",
    "    # Perform an XOR between the numbers in the arrays\n",
    "    for num in arr1+arr2: \n",
    "        #print num\n",
    "        #print result\n",
    "        result^=num \n",
    "        #print result\n",
    "        #print\n",
    "        \n",
    "    return result "
   ]
  },
  {
   "cell_type": "code",
   "execution_count": 35,
   "metadata": {
    "collapsed": false
   },
   "outputs": [
    {
     "name": "stdout",
     "output_type": "stream",
     "text": [
      "ALL TEST CASES PASSED\n"
     ]
    }
   ],
   "source": [
    "t.test(finder3)"
   ]
  },
  {
   "cell_type": "code",
   "execution_count": null,
   "metadata": {
    "collapsed": true
   },
   "outputs": [],
   "source": []
  }
 ],
 "metadata": {
  "kernelspec": {
   "display_name": "Python 2",
   "language": "python",
   "name": "python2"
  },
  "language_info": {
   "codemirror_mode": {
    "name": "ipython",
    "version": 2
   },
   "file_extension": ".py",
   "mimetype": "text/x-python",
   "name": "python",
   "nbconvert_exporter": "python",
   "pygments_lexer": "ipython2",
   "version": "2.7.11"
  }
 },
 "nbformat": 4,
 "nbformat_minor": 0
}
