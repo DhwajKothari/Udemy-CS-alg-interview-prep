{
 "cells": [
  {
   "cell_type": "markdown",
   "metadata": {},
   "source": [
    "# On-Site Question 3\n",
    "\n",
    "## Problem\n",
    "\n",
    "**Given two rectangles, determine if they overlap. The rectangles are defined as a Dictionary, for example:**"
   ]
  },
  {
   "cell_type": "code",
   "execution_count": 2,
   "metadata": {
    "collapsed": false
   },
   "outputs": [],
   "source": [
    "r1 = {\n",
    "    \n",
    "         # x and y coordinates of the bottom-left corner of the rectangle\n",
    "         'x': 2 , 'y': 4,\n",
    "         \n",
    "         # Width and Height of rectangle\n",
    "         'w':5,'h':12}"
   ]
  },
  {
   "cell_type": "markdown",
   "metadata": {},
   "source": [
    "** If the rectangles do overlap, return the dictionary which describes the overlapping section**"
   ]
  },
  {
   "cell_type": "markdown",
   "metadata": {},
   "source": [
    "## Requirements\n",
    "\n",
    "** Make sure the dictionary you output is in the same form as the input.**\n",
    "\n",
    "** Feel free to use an IDE for the code, but make sure you use paper/pencil or whiteboard to draw out your plan and logic**"
   ]
  },
  {
   "cell_type": "markdown",
   "metadata": {},
   "source": [
    "# Solution. \n",
    "\n",
    "# In all cases, split problem into sub-problems of overlap in x and overlap in y\n",
    "\n",
    "## Try 1.  Using repeat code to check x and y.  Doesn't handle one rectangle inside the other..."
   ]
  },
  {
   "cell_type": "code",
   "execution_count": 2,
   "metadata": {
    "collapsed": false
   },
   "outputs": [],
   "source": [
    "def find_rec_overlap(rec1,rec2):\n",
    "    \n",
    "    #set output dict full of zeros\n",
    "    x,y,w,h = 0,0,0,0\n",
    "    \n",
    "    # Find if they overlap in x\n",
    "    # if rec2 is on right and they overlap, ok.  If rec2 is on left and they don't overlap, exit.\n",
    "    if (rec1['x']+rec1['w']) > rec2['x']:\n",
    "        x = rec2['x']\n",
    "        w = rec1['x']-x\n",
    "    elif (rec2['x']+rec2['w']) < rec1['x']:\n",
    "        return False\n",
    "    else:\n",
    "        x = rec1['x']\n",
    "        w = rec2['x']-x\n",
    "     \n",
    "    # Find if they overlap vertically\n",
    "    # if rec2 is on above and they overlap, ok.  If rec2 is on under and they don't overlap, exit.\n",
    "    if (rec1['y']+rec1['h']) > rec2['y']:\n",
    "        y = rec2['y']\n",
    "        h = rec1['y']-y\n",
    "    elif (rec2['y']+rec2['h']) < rec1['y']:\n",
    "        return False\n",
    "    else:\n",
    "        y = rec1['y']\n",
    "        h = rec2['y']-y\n",
    "        \n",
    "    rec_overlap = {'x':x ,'y': y, 'w': w,'h': h}\n",
    "    \n",
    "    return rec_overlap"
   ]
  },
  {
   "cell_type": "markdown",
   "metadata": {},
   "source": [
    "## Try 2.  Best.  Make a generalized function to handle checks and use min/max to do the work."
   ]
  },
  {
   "cell_type": "code",
   "execution_count": 3,
   "metadata": {
    "collapsed": true
   },
   "outputs": [],
   "source": [
    "def calc_overlap(coord1, dim1, coord2, dim2):\n",
    "    \"\"\" generalized func to find if there is overlap and return lowest point of overlap and length of overlap.\"\"\"\n",
    "    \n",
    "    # find the largest coord\n",
    "    coord_max = max(coord1, coord2)\n",
    "    # find the smallest coord+dim\n",
    "    coord_dim_min = min(coord1+dim1, coord2+dim2)\n",
    "    \n",
    "    #if the largest coord is bigger than smallest coord+dim, they do NOT overlap\n",
    "    if coord_max >= coord_dim_min:\n",
    "        return (None,None)\n",
    "    \n",
    "    overlap = coord_dim_min - coord_max\n",
    "    \n",
    "    return (coord_max, overlap)"
   ]
  },
  {
   "cell_type": "code",
   "execution_count": null,
   "metadata": {
    "collapsed": true
   },
   "outputs": [],
   "source": [
    "def rect_overlap(rec1, rec2):\n",
    "    \n",
    "    # See if they overlap in x\n",
    "    x_overlap, w_overlap = calc_overlap(rec1['x'],rec1['w'],rec2['x'],rec2['w'])\n",
    "    \n",
    "    #see if they overlap in y\n",
    "    y_overlap, h_overlap = calc_overlap(rec1['y'],rec1['h'],rec2['y'],rec2['h'])\n",
    "    \n",
    "    # if no overlap at all, ret false\n",
    "    if w_overlap==h_overlap==None:\n",
    "        print 'No overlap!'\n",
    "        return False       \n",
    "    \n",
    "    # There is at least a shared edge\n",
    "    rec_overlap = {'x':x_overlap ,'y': y_overlap, 'w': w_overlap,'h': h_overlap}\n",
    "    \n",
    "    return rec_overlap"
   ]
  }
 ],
 "metadata": {
  "kernelspec": {
   "display_name": "Python 2",
   "language": "python",
   "name": "python2"
  },
  "language_info": {
   "codemirror_mode": {
    "name": "ipython",
    "version": 2
   },
   "file_extension": ".py",
   "mimetype": "text/x-python",
   "name": "python",
   "nbconvert_exporter": "python",
   "pygments_lexer": "ipython2",
   "version": "2.7.11"
  }
 },
 "nbformat": 4,
 "nbformat_minor": 0
}
