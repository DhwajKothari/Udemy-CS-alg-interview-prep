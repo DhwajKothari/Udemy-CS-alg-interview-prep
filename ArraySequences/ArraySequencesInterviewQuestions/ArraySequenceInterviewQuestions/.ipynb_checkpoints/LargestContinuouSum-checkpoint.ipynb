{
 "cells": [
  {
   "cell_type": "markdown",
   "metadata": {},
   "source": [
    "# Largest Continuous Sum\n",
    "\n",
    "## Problem\n",
    "Given an array of integers (positive and negative) find the largest continuous sum. \n",
    "\n",
    "## Solution\n",
    "\n",
    "Fill out your solution below:"
   ]
  },
  {
   "cell_type": "markdown",
   "metadata": {},
   "source": [
    "## Try 1.  Bad, but simple.  Make list of all sums, take largest.  O(Nlog(N)) I think."
   ]
  },
  {
   "cell_type": "code",
   "execution_count": 66,
   "metadata": {
    "collapsed": false
   },
   "outputs": [],
   "source": [
    "def large_cont_sum(arr): \n",
    "    \"\"\" Store a dictionary with the sums as the key and the values being start and end position of sequence.\"\"\"\n",
    "    \n",
    "    d = {}\n",
    "    \n",
    "    for i in xrange(len(arr)):\n",
    "        for j in xrange(i,len(arr)):\n",
    "            if i != j:\n",
    "                d[sum(arr[i:j])] = [i,j-1]\n",
    "            else:\n",
    "                d[arr[i]] = [i,j-1]\n",
    "    \n",
    "    m = max(d)\n",
    "    #print repr(d[m]) \n",
    "    return m\n",
    "    "
   ]
  },
  {
   "cell_type": "code",
   "execution_count": 67,
   "metadata": {
    "collapsed": false
   },
   "outputs": [
    {
     "data": {
      "text/plain": [
       "29"
      ]
     },
     "execution_count": 67,
     "metadata": {},
     "output_type": "execute_result"
    }
   ],
   "source": [
    "large_cont_sum([1,2,-1,3,4,10,10,-10,-1])  #answer is 29"
   ]
  },
  {
   "cell_type": "markdown",
   "metadata": {},
   "source": [
    "# Test Your Solution"
   ]
  },
  {
   "cell_type": "code",
   "execution_count": 63,
   "metadata": {
    "collapsed": false
   },
   "outputs": [
    {
     "name": "stdout",
     "output_type": "stream",
     "text": [
      "[0, 4]\n",
      "[0, 6]\n",
      "[1, 0]\n",
      "ALL TEST CASES PASSED\n"
     ]
    }
   ],
   "source": [
    "from nose.tools import assert_equal\n",
    "\n",
    "class LargeContTest(object):\n",
    "    def test(self,sol):\n",
    "        assert_equal(sol([1,2,-1,3,4,-1]),9)\n",
    "        assert_equal(sol([1,2,-1,3,4,10,10,-10,-1]),29)\n",
    "        assert_equal(sol([-1,1]),1)\n",
    "        print 'ALL TEST CASES PASSED'\n",
    "        \n",
    "#Run Test\n",
    "t = LargeContTest()\n",
    "t.test(large_cont_sum)"
   ]
  },
  {
   "cell_type": "markdown",
   "metadata": {},
   "source": [
    "## Good Job!"
   ]
  },
  {
   "cell_type": "markdown",
   "metadata": {},
   "source": [
    "## Try 2,  modified version of course solution to include start/end point tracking.  O(N)"
   ]
  },
  {
   "cell_type": "code",
   "execution_count": 70,
   "metadata": {
    "collapsed": true
   },
   "outputs": [],
   "source": [
    "def large_cont_sum2(arr): \n",
    "    \n",
    "    # For tracking the start and end points of larges sequence\n",
    "    sf = [0,0]\n",
    "    s = 0\n",
    "    \n",
    "    # Check to see if array is length 0\n",
    "    if len(arr)==0: \n",
    "        return 0\n",
    "    \n",
    "    # Start the max and current sum at the first element\n",
    "    max_sum=curr_sum=arr[0] \n",
    "    \n",
    "    # For every element in array\n",
    "    for i in xrange(1,len(arr)): \n",
    "        \n",
    "        # Set current sum as the higher of the two and update starting point appropriately\n",
    "        if arr[i] < curr_sum+arr[i]:\n",
    "            curr_sum += arr[i]\n",
    "        else:\n",
    "            curr_sum = arr[i]\n",
    "            s = i\n",
    "        \n",
    "        # Set max as the higher between the currentSum and the current max\n",
    "        if curr_sum > max_sum:\n",
    "            max_sum = curr_sum\n",
    "            sf = [s,i]\n",
    "        max_sum=max(curr_sum, max_sum) \n",
    "    #print repr(sf)\n",
    "    return max_sum "
   ]
  },
  {
   "cell_type": "code",
   "execution_count": 71,
   "metadata": {
    "collapsed": false
   },
   "outputs": [
    {
     "name": "stdout",
     "output_type": "stream",
     "text": [
      "ALL TEST CASES PASSED\n"
     ]
    }
   ],
   "source": [
    "t.test(large_cont_sum2)"
   ]
  },
  {
   "cell_type": "code",
   "execution_count": null,
   "metadata": {
    "collapsed": true
   },
   "outputs": [],
   "source": []
  }
 ],
 "metadata": {
  "kernelspec": {
   "display_name": "Python 2",
   "language": "python",
   "name": "python2"
  },
  "language_info": {
   "codemirror_mode": {
    "name": "ipython",
    "version": 2
   },
   "file_extension": ".py",
   "mimetype": "text/x-python",
   "name": "python",
   "nbconvert_exporter": "python",
   "pygments_lexer": "ipython2",
   "version": "2.7.11"
  }
 },
 "nbformat": 4,
 "nbformat_minor": 0
}
