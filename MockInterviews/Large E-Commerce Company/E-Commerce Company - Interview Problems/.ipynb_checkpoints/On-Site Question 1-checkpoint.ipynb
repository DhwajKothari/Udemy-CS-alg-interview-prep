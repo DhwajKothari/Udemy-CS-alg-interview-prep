{
 "cells": [
  {
   "cell_type": "markdown",
   "metadata": {},
   "source": [
    "# On-Site Question 1 \n",
    "\n",
    "## Problem\n",
    "\n",
    "** You've been given a list of historical stock prices for a single day for Amazon stock. The index of the list represents the timestamp, so the element at index of 0 is the initial price of the stock, the element at index 1 is the next recorded price of the stock for that day, etc. Your task is to write a function that will return the maximum profit possible from the purchase and sale of a single share of Amazon stock on that day. Keep in mind to try to make this as efficient as possible.**\n",
    "\n",
    "\n",
    "For example, if you were given the list of stock prices:\n",
    "\n",
    "prices = [12,11,15,3,10]\n",
    "\n",
    "Then your function would return the maximum possible profit, which would be 7 (buying at 3 and selling at 10).\n",
    "\n",
    "## Requirements\n",
    "\n",
    "** Try to solve this problem with paper/pencil first without using an IDE. Also keep in mind you should be able to come up with a better solution than just brute forcing every possible sale combination **\n",
    "\n",
    "** Also you can't \"short\" a stock, you must buy *before* you sell the stock. **"
   ]
  },
  {
   "cell_type": "markdown",
   "metadata": {},
   "source": [
    "# Standard Greedy Algorithm.  Optimized, but not perfect.  O(N)\n",
    "\n",
    "Find the max profit in one pass O(N) and in constant space O(1)\n",
    "\n",
    "[greedy algorithm](https://en.wikipedia.org/wiki/Greedy_algorithm)\n",
    "\n",
    "* Doesn't handle prices always going down!\n"
   ]
  },
  {
   "cell_type": "code",
   "execution_count": 35,
   "metadata": {
    "collapsed": true
   },
   "outputs": [],
   "source": [
    "def profit (stock_prices):\n",
    "    \"\"\"  Go through list once, tracking minimum found so far, and max profit so far.  Return max profit.\n",
    "    \"\"\"\n",
    "    # Take care of edge case where list has no profit calculatability.  ie, less than 2 prices.\n",
    "    if len(stock_prices) < 2:\n",
    "        raise Exception(\"Must provide at least 2 prices!\")\n",
    "    \n",
    "    # Minimum tracker starting from first element\n",
    "    min_price = stock_prices[0]\n",
    "    \n",
    "    # Profit tracker\n",
    "    max_profit = 0\n",
    "    \n",
    "    for price in stock_prices[1:]:\n",
    "        \n",
    "        # update min price if current price is lower\n",
    "        min_price = min(min_price, price)\n",
    "        \n",
    "        # update max profit\n",
    "        max_profit = max (price-min_price, max_profit)\n",
    "    \n",
    "    return max_profit "
   ]
  },
  {
   "cell_type": "code",
   "execution_count": 36,
   "metadata": {
    "collapsed": false
   },
   "outputs": [
    {
     "data": {
      "text/plain": [
       "22"
      ]
     },
     "execution_count": 36,
     "metadata": {},
     "output_type": "execute_result"
    }
   ],
   "source": [
    "stock_prices = [1,5,3,7,23,12,2]\n",
    "profit(stock_prices)"
   ]
  },
  {
   "cell_type": "markdown",
   "metadata": {},
   "source": [
    "# Optimized/Robust version.  Still O(N).\n",
    "\n",
    "Now handles only decreasing prices"
   ]
  },
  {
   "cell_type": "code",
   "execution_count": 37,
   "metadata": {
    "collapsed": true
   },
   "outputs": [],
   "source": [
    "def profit2(stock_prices):\n",
    "    \"\"\" Same as before, BUT start max_profit from #1-#0.  Still works with a normal up/down day.\"\"\"\n",
    "    # Take care of edge case where list has no profit calculatability.  ie, less than 2 prices.\n",
    "    if len(stock_prices) < 2:\n",
    "        raise Exception(\"Must provide at least 2 prices!\")\n",
    "    \n",
    "    # Minimum tracker starting from first element\n",
    "    min_price = stock_prices[0] \n",
    "    \n",
    "    # Profit tracker\n",
    "    max_profit = stock_prices[1]-stock_prices[0]  ## DIFFERENT THAN PREVIOUS $!!!!!!!!!\n",
    "    \n",
    "    for price in stock_prices[2:]:\n",
    "        \n",
    "        ## RE-ORDER FINDING MAX PROFIT AND MIN, $!!!!!!!!!\n",
    "        ## TO ALLOW FOR NEGATIVE PROFITS        $!!!!!!!!!\n",
    "        \n",
    "        # update max profit\n",
    "        max_profit = max (price-min_price, max_profit)\n",
    "        \n",
    "        # update min price if current price is lower\n",
    "        min_price = min(min_price, price)       \n",
    "    \n",
    "    return max_profit "
   ]
  },
  {
   "cell_type": "code",
   "execution_count": 25,
   "metadata": {
    "collapsed": false
   },
   "outputs": [
    {
     "name": "stdout",
     "output_type": "stream",
     "text": [
      "22\n",
      "\n",
      "-2\n"
     ]
    }
   ],
   "source": [
    "stock_prices = [1,5,3,7,23,12,2]\n",
    "print profit2(stock_prices)\n",
    "print \n",
    "stock_prices = [23,19,7,3,1]\n",
    "print profit2(stock_prices)"
   ]
  },
  {
   "cell_type": "markdown",
   "metadata": {},
   "source": [
    "## Brute Force.  O(N^2)\n",
    "\n",
    "Try every profit permutation."
   ]
  },
  {
   "cell_type": "code",
   "execution_count": 33,
   "metadata": {
    "collapsed": true
   },
   "outputs": [],
   "source": [
    "def profit_brute(stock_prices):\n",
    "    \"\"\" For each element, check for max to its right and keep track of global max profit.\"\"\"\n",
    "    \n",
    "    # Profit tracker\n",
    "    max_profit = stock_prices[1]-stock_prices[0]\n",
    "    \n",
    "    # loop through list till one before end, as comparing at least one ahead inside loop\n",
    "    for i in xrange(2, len(stock_prices)-1):\n",
    "        \n",
    "        # Find max on this stock's right\n",
    "        max_right = max(stock_prices[i+1:])\n",
    "        max_profit = max(max_profit, max_right-stock_prices[i])\n",
    "    \n",
    "    return max_profit"
   ]
  },
  {
   "cell_type": "code",
   "execution_count": 34,
   "metadata": {
    "collapsed": false
   },
   "outputs": [
    {
     "name": "stdout",
     "output_type": "stream",
     "text": [
      "20\n",
      "\n",
      "-2\n"
     ]
    }
   ],
   "source": [
    "stock_prices = [1,5,3,7,23,12,2]\n",
    "print profit_brute(stock_prices)\n",
    "print \n",
    "stock_prices = [23,19,7,3,1]\n",
    "print profit_brute(stock_prices)"
   ]
  }
 ],
 "metadata": {
  "kernelspec": {
   "display_name": "Python 2",
   "language": "python",
   "name": "python2"
  },
  "language_info": {
   "codemirror_mode": {
    "name": "ipython",
    "version": 2
   },
   "file_extension": ".py",
   "mimetype": "text/x-python",
   "name": "python",
   "nbconvert_exporter": "python",
   "pygments_lexer": "ipython2",
   "version": "2.7.11"
  }
 },
 "nbformat": 4,
 "nbformat_minor": 0
}
