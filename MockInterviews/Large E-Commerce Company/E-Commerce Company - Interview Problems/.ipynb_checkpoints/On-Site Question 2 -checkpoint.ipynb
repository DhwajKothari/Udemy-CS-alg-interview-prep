{
 "cells": [
  {
   "cell_type": "markdown",
   "metadata": {},
   "source": [
    "# On-Site Question 2 \n",
    "\n",
    "## Problem\n",
    "\n",
    "** Given a list of integers, write a function that will return a list, in which for each index the element will be the product of all the integers except for the element at that index **\n",
    "\n",
    "**For example, an input of [1,2,3,4] would return [24,12,8,6] by performing [2×3×4,1×3×4,1×2×4,1×2×3] **\n",
    "\n",
    "## Requirements\n",
    "\n",
    "** You can not use division in your answer! Meaning you can't simply multiply all the numbers and then divide by each element for each index!**\n",
    "\n",
    "** Try to do this on a white board or with paper/pencil.**"
   ]
  },
  {
   "cell_type": "markdown",
   "metadata": {},
   "source": [
    "# Brute Force.  O(N^2)"
   ]
  },
  {
   "cell_type": "code",
   "execution_count": 13,
   "metadata": {
    "collapsed": true
   },
   "outputs": [],
   "source": [
    "def by_element_products(int_list):\n",
    "    \"\"\" Simply loop through each element of list, and find product of all other elements.\"\"\"\n",
    "    \n",
    "    products = [None]*len(int_list)\n",
    "    \n",
    "    for i in xrange(len(int_list)):\n",
    "        #start product at 1\n",
    "        prod = 1\n",
    "        \n",
    "        # make list of all other vals\n",
    "        others_list = int_list[:i]+int_list[i+1:]\n",
    "        \n",
    "        # loop over other vals and caculate total product\n",
    "        for el in others_list:\n",
    "            prod *= el\n",
    "        \n",
    "        products[i] = prod\n",
    "        \n",
    "    return products"
   ]
  },
  {
   "cell_type": "code",
   "execution_count": 14,
   "metadata": {
    "collapsed": false
   },
   "outputs": [
    {
     "data": {
      "text/plain": [
       "[24, 12, 8, 6]"
      ]
     },
     "execution_count": 14,
     "metadata": {},
     "output_type": "execute_result"
    }
   ],
   "source": [
    "int_list = [1,2,3,4]\n",
    "by_element_products(int_list)"
   ]
  },
  {
   "cell_type": "markdown",
   "metadata": {},
   "source": [
    "## Two passes of greedy algorithm.  Time complexity O(2N), so O(N).  Space complexity is O(N) through.\n",
    "\n",
    "* Pass through array once and load up another array with products before. \n",
    "* Pass through backwards, track products before and load up array with products before x products after."
   ]
  },
  {
   "cell_type": "code",
   "execution_count": 17,
   "metadata": {
    "collapsed": true
   },
   "outputs": [],
   "source": [
    "def by_element_products2(int_list):\n",
    "    \n",
    "    # start empty list to load products into\n",
    "    products = [None]*len(int_list)\n",
    "    \n",
    "    prod = 1\n",
    "    \n",
    "    # First loop to get all products before an element\n",
    "    for i in xrange(len(int_list)):\n",
    "        \n",
    "        # cumulative product of all elements so far\n",
    "        prod *= int_list[i]\n",
    "        products[i] = prod\n",
    "        \n",
    "    # Loop through backwards to get product of all before and multiply with those before to get output\n",
    "    prod = 1\n",
    "    for i in xrange(len(int_list)-1,0,-1):\n",
    "                \n",
    "        # need to calc prod AFTER loading latest before*after into list\n",
    "        # to make sure the product doesn't include current element\n",
    "        products[i] = products[i-1]*prod\n",
    "        \n",
    "        # cumulative product of all elements so far backwards\n",
    "        prod *= int_list[i+1]\n",
    "        \n",
    "    return products   "
   ]
  },
  {
   "cell_type": "code",
   "execution_count": 18,
   "metadata": {
    "collapsed": false
   },
   "outputs": [
    {
     "data": {
      "text/plain": [
       "[24, 12, 8, 6]"
      ]
     },
     "execution_count": 18,
     "metadata": {},
     "output_type": "execute_result"
    }
   ],
   "source": [
    "int_list = [1,2,3,4]\n",
    "by_element_products(int_list)"
   ]
  },
  {
   "cell_type": "code",
   "execution_count": null,
   "metadata": {
    "collapsed": true
   },
   "outputs": [],
   "source": []
  }
 ],
 "metadata": {
  "kernelspec": {
   "display_name": "Python 2",
   "language": "python",
   "name": "python2"
  },
  "language_info": {
   "codemirror_mode": {
    "name": "ipython",
    "version": 2
   },
   "file_extension": ".py",
   "mimetype": "text/x-python",
   "name": "python",
   "nbconvert_exporter": "python",
   "pygments_lexer": "ipython2",
   "version": "2.7.11"
  }
 },
 "nbformat": 4,
 "nbformat_minor": 0
}
